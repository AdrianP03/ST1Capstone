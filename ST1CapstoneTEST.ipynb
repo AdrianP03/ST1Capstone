{
  "nbformat": 4,
  "nbformat_minor": 0,
  "metadata": {
    "colab": {
      "provenance": [],
      "authorship_tag": "ABX9TyPMbLONXH8QjIhqm3Y3Owz+",
      "include_colab_link": true
    },
    "kernelspec": {
      "name": "python3",
      "display_name": "Python 3"
    },
    "language_info": {
      "name": "python"
    }
  },
  "cells": [
    {
      "cell_type": "markdown",
      "metadata": {
        "id": "view-in-github",
        "colab_type": "text"
      },
      "source": [
        "<a href=\"https://colab.research.google.com/github/AdrianP03/ST1Capstone/blob/main/ST1CapstoneTEST.ipynb\" target=\"_parent\"><img src=\"https://colab.research.google.com/assets/colab-badge.svg\" alt=\"Open In Colab\"/></a>"
      ]
    },
    {
      "cell_type": "markdown",
      "source": [
        "# **ST1/ST1G Assignment 9 (Capstone Programming Project)**\n"
      ],
      "metadata": {
        "id": "T2Emsg2AJ7Ty"
      }
    },
    {
      "cell_type": "code",
      "source": [
        "from google.colab import drive\n",
        "drive.mount('/content/drive')"
      ],
      "metadata": {
        "colab": {
          "base_uri": "https://localhost:8080/"
        },
        "id": "tPC4-f1fJ4rZ",
        "outputId": "464c9e4a-17e1-4cfd-8e6b-76bbf41ac7f5"
      },
      "execution_count": 1,
      "outputs": [
        {
          "output_type": "stream",
          "name": "stdout",
          "text": [
            "Mounted at /content/drive\n"
          ]
        }
      ]
    },
    {
      "cell_type": "code",
      "source": [
        "%cd /content/drive/MyDrive/ST1Capstone/"
      ],
      "metadata": {
        "colab": {
          "base_uri": "https://localhost:8080/"
        },
        "id": "UPCkmca2K4ka",
        "outputId": "19615674-655e-4833-a5c6-134c477f8816"
      },
      "execution_count": 2,
      "outputs": [
        {
          "output_type": "stream",
          "name": "stdout",
          "text": [
            "/content/drive/MyDrive/ST1Capstone\n"
          ]
        }
      ]
    },
    {
      "cell_type": "code",
      "source": [
        "!ls"
      ],
      "metadata": {
        "colab": {
          "base_uri": "https://localhost:8080/"
        },
        "id": "gANvP1OBK9Ap",
        "outputId": "69c2d451-a664-4b39-ac5e-7a1acdec5900"
      },
      "execution_count": 3,
      "outputs": [
        {
          "output_type": "stream",
          "name": "stdout",
          "text": [
            "CellphoneData.csv\n"
          ]
        }
      ]
    },
    {
      "cell_type": "markdown",
      "source": [
        "### This capstone project is based on the Mobile Price Prediction. The data is available from the Kaggle repository: (https://www.kaggle.com/datasets/mohannapd/mobile-price-prediction).\n",
        "\n",
        "\n",
        "\n",
        "*   It contains the details of cellphone prices and specifications.\n",
        "*   My project task is to create a machine learning model which can predict cellphone prices based on their characteristics.\n",
        "* For solving this problem, I will approach the task, with a step by step approach to create a data analysis and prediction model based on (machine learning/AI algorithms, regression algorith for example) available from different Python packages, modules and classes.\n"
      ],
      "metadata": {
        "id": "HakxSRYcLMkF"
      }
    },
    {
      "cell_type": "markdown",
      "source": [
        "### Step 1: Reading the data Reading the data with python"
      ],
      "metadata": {
        "id": "-EtbXm_BNAK1"
      }
    },
    {
      "cell_type": "code",
      "source": [
        "# Supressing the warning messages\n",
        "import warnings\n",
        "warnings.filterwarnings('ignore')"
      ],
      "metadata": {
        "id": "vE7PLxaUK_Ye"
      },
      "execution_count": 4,
      "outputs": []
    },
    {
      "cell_type": "code",
      "source": [
        "# Reading the dataset\n",
        "import pandas as pd\n",
        "import numpy as np\n",
        "CellphoneData = pd.read_csv('/content/drive/MyDrive/ST1Capstone/CellphoneData.csv', encoding='latin')\n",
        "print('Shape before deleting duplicate values:', CellphoneData.shape)\n",
        "\n",
        "# Removing duplicate rows if any\n",
        "CellphoneData=CellphoneData.drop_duplicates()\n",
        "print('Shape After deleting duplicate values:', CellphoneData.shape)\n",
        "\n",
        "# Printing sample data\n",
        "# Start observing the Quantitative/Categorical/Qualitative variables\n",
        "CellphoneData.head(10)\n"
      ],
      "metadata": {
        "colab": {
          "base_uri": "https://localhost:8080/",
          "height": 398
        },
        "id": "r0dVLukuNjeN",
        "outputId": "42c09fe5-3f1e-44fc-876e-163e3b5a1b90"
      },
      "execution_count": 5,
      "outputs": [
        {
          "output_type": "stream",
          "name": "stdout",
          "text": [
            "Shape before deleting duplicate values: (161, 14)\n",
            "Shape After deleting duplicate values: (161, 14)\n"
          ]
        },
        {
          "output_type": "execute_result",
          "data": {
            "text/plain": [
              "   Product ID  Price  Sale  Weight  Resolution  PPI  CPU Core  CPU Freq  \\\n",
              "0         203   2357    10   135.0         5.2  424         8      1.35   \n",
              "1         880   1749    10   125.0         4.0  233         2      1.30   \n",
              "2          40   1916    10   110.0         4.7  312         4      1.20   \n",
              "3          99   1315    11   118.5         4.0  233         2      1.30   \n",
              "4         880   1749    11   125.0         4.0  233         2      1.30   \n",
              "5         947   2137    12   150.0         5.5  401         4      2.30   \n",
              "6         774   1238    13   134.1         4.0  233         2      1.20   \n",
              "7         947   2137    13   150.0         5.5  401         4      2.30   \n",
              "8          99   1315    14   118.5         4.0  233         2      1.30   \n",
              "9        1103   2580    15   145.0         5.1  432         4      2.50   \n",
              "\n",
              "   Internal Mem    RAM  Rear Cam  Front Cam  Battery  Thickness  \n",
              "0          16.0  3.000     13.00        8.0     2610        7.4  \n",
              "1           4.0  1.000      3.15        0.0     1700        9.9  \n",
              "2           8.0  1.500     13.00        5.0     2000        7.6  \n",
              "3           4.0  0.512      3.15        0.0     1400       11.0  \n",
              "4           4.0  1.000      3.15        0.0     1700        9.9  \n",
              "5          16.0  2.000     16.00        8.0     2500        9.5  \n",
              "6           8.0  1.000      2.00        0.0     1560       11.7  \n",
              "7          16.0  2.000     16.00        8.0     2500        9.5  \n",
              "8           4.0  0.512      3.15        0.0     1400       11.0  \n",
              "9          16.0  2.000     16.00        2.0     2800        8.1  "
            ],
            "text/html": [
              "\n",
              "  <div id=\"df-971eaeb8-9e83-44c6-bc60-a721221dc921\" class=\"colab-df-container\">\n",
              "    <div>\n",
              "<style scoped>\n",
              "    .dataframe tbody tr th:only-of-type {\n",
              "        vertical-align: middle;\n",
              "    }\n",
              "\n",
              "    .dataframe tbody tr th {\n",
              "        vertical-align: top;\n",
              "    }\n",
              "\n",
              "    .dataframe thead th {\n",
              "        text-align: right;\n",
              "    }\n",
              "</style>\n",
              "<table border=\"1\" class=\"dataframe\">\n",
              "  <thead>\n",
              "    <tr style=\"text-align: right;\">\n",
              "      <th></th>\n",
              "      <th>Product ID</th>\n",
              "      <th>Price</th>\n",
              "      <th>Sale</th>\n",
              "      <th>Weight</th>\n",
              "      <th>Resolution</th>\n",
              "      <th>PPI</th>\n",
              "      <th>CPU Core</th>\n",
              "      <th>CPU Freq</th>\n",
              "      <th>Internal Mem</th>\n",
              "      <th>RAM</th>\n",
              "      <th>Rear Cam</th>\n",
              "      <th>Front Cam</th>\n",
              "      <th>Battery</th>\n",
              "      <th>Thickness</th>\n",
              "    </tr>\n",
              "  </thead>\n",
              "  <tbody>\n",
              "    <tr>\n",
              "      <th>0</th>\n",
              "      <td>203</td>\n",
              "      <td>2357</td>\n",
              "      <td>10</td>\n",
              "      <td>135.0</td>\n",
              "      <td>5.2</td>\n",
              "      <td>424</td>\n",
              "      <td>8</td>\n",
              "      <td>1.35</td>\n",
              "      <td>16.0</td>\n",
              "      <td>3.000</td>\n",
              "      <td>13.00</td>\n",
              "      <td>8.0</td>\n",
              "      <td>2610</td>\n",
              "      <td>7.4</td>\n",
              "    </tr>\n",
              "    <tr>\n",
              "      <th>1</th>\n",
              "      <td>880</td>\n",
              "      <td>1749</td>\n",
              "      <td>10</td>\n",
              "      <td>125.0</td>\n",
              "      <td>4.0</td>\n",
              "      <td>233</td>\n",
              "      <td>2</td>\n",
              "      <td>1.30</td>\n",
              "      <td>4.0</td>\n",
              "      <td>1.000</td>\n",
              "      <td>3.15</td>\n",
              "      <td>0.0</td>\n",
              "      <td>1700</td>\n",
              "      <td>9.9</td>\n",
              "    </tr>\n",
              "    <tr>\n",
              "      <th>2</th>\n",
              "      <td>40</td>\n",
              "      <td>1916</td>\n",
              "      <td>10</td>\n",
              "      <td>110.0</td>\n",
              "      <td>4.7</td>\n",
              "      <td>312</td>\n",
              "      <td>4</td>\n",
              "      <td>1.20</td>\n",
              "      <td>8.0</td>\n",
              "      <td>1.500</td>\n",
              "      <td>13.00</td>\n",
              "      <td>5.0</td>\n",
              "      <td>2000</td>\n",
              "      <td>7.6</td>\n",
              "    </tr>\n",
              "    <tr>\n",
              "      <th>3</th>\n",
              "      <td>99</td>\n",
              "      <td>1315</td>\n",
              "      <td>11</td>\n",
              "      <td>118.5</td>\n",
              "      <td>4.0</td>\n",
              "      <td>233</td>\n",
              "      <td>2</td>\n",
              "      <td>1.30</td>\n",
              "      <td>4.0</td>\n",
              "      <td>0.512</td>\n",
              "      <td>3.15</td>\n",
              "      <td>0.0</td>\n",
              "      <td>1400</td>\n",
              "      <td>11.0</td>\n",
              "    </tr>\n",
              "    <tr>\n",
              "      <th>4</th>\n",
              "      <td>880</td>\n",
              "      <td>1749</td>\n",
              "      <td>11</td>\n",
              "      <td>125.0</td>\n",
              "      <td>4.0</td>\n",
              "      <td>233</td>\n",
              "      <td>2</td>\n",
              "      <td>1.30</td>\n",
              "      <td>4.0</td>\n",
              "      <td>1.000</td>\n",
              "      <td>3.15</td>\n",
              "      <td>0.0</td>\n",
              "      <td>1700</td>\n",
              "      <td>9.9</td>\n",
              "    </tr>\n",
              "    <tr>\n",
              "      <th>5</th>\n",
              "      <td>947</td>\n",
              "      <td>2137</td>\n",
              "      <td>12</td>\n",
              "      <td>150.0</td>\n",
              "      <td>5.5</td>\n",
              "      <td>401</td>\n",
              "      <td>4</td>\n",
              "      <td>2.30</td>\n",
              "      <td>16.0</td>\n",
              "      <td>2.000</td>\n",
              "      <td>16.00</td>\n",
              "      <td>8.0</td>\n",
              "      <td>2500</td>\n",
              "      <td>9.5</td>\n",
              "    </tr>\n",
              "    <tr>\n",
              "      <th>6</th>\n",
              "      <td>774</td>\n",
              "      <td>1238</td>\n",
              "      <td>13</td>\n",
              "      <td>134.1</td>\n",
              "      <td>4.0</td>\n",
              "      <td>233</td>\n",
              "      <td>2</td>\n",
              "      <td>1.20</td>\n",
              "      <td>8.0</td>\n",
              "      <td>1.000</td>\n",
              "      <td>2.00</td>\n",
              "      <td>0.0</td>\n",
              "      <td>1560</td>\n",
              "      <td>11.7</td>\n",
              "    </tr>\n",
              "    <tr>\n",
              "      <th>7</th>\n",
              "      <td>947</td>\n",
              "      <td>2137</td>\n",
              "      <td>13</td>\n",
              "      <td>150.0</td>\n",
              "      <td>5.5</td>\n",
              "      <td>401</td>\n",
              "      <td>4</td>\n",
              "      <td>2.30</td>\n",
              "      <td>16.0</td>\n",
              "      <td>2.000</td>\n",
              "      <td>16.00</td>\n",
              "      <td>8.0</td>\n",
              "      <td>2500</td>\n",
              "      <td>9.5</td>\n",
              "    </tr>\n",
              "    <tr>\n",
              "      <th>8</th>\n",
              "      <td>99</td>\n",
              "      <td>1315</td>\n",
              "      <td>14</td>\n",
              "      <td>118.5</td>\n",
              "      <td>4.0</td>\n",
              "      <td>233</td>\n",
              "      <td>2</td>\n",
              "      <td>1.30</td>\n",
              "      <td>4.0</td>\n",
              "      <td>0.512</td>\n",
              "      <td>3.15</td>\n",
              "      <td>0.0</td>\n",
              "      <td>1400</td>\n",
              "      <td>11.0</td>\n",
              "    </tr>\n",
              "    <tr>\n",
              "      <th>9</th>\n",
              "      <td>1103</td>\n",
              "      <td>2580</td>\n",
              "      <td>15</td>\n",
              "      <td>145.0</td>\n",
              "      <td>5.1</td>\n",
              "      <td>432</td>\n",
              "      <td>4</td>\n",
              "      <td>2.50</td>\n",
              "      <td>16.0</td>\n",
              "      <td>2.000</td>\n",
              "      <td>16.00</td>\n",
              "      <td>2.0</td>\n",
              "      <td>2800</td>\n",
              "      <td>8.1</td>\n",
              "    </tr>\n",
              "  </tbody>\n",
              "</table>\n",
              "</div>\n",
              "    <div class=\"colab-df-buttons\">\n",
              "\n",
              "  <div class=\"colab-df-container\">\n",
              "    <button class=\"colab-df-convert\" onclick=\"convertToInteractive('df-971eaeb8-9e83-44c6-bc60-a721221dc921')\"\n",
              "            title=\"Convert this dataframe to an interactive table.\"\n",
              "            style=\"display:none;\">\n",
              "\n",
              "  <svg xmlns=\"http://www.w3.org/2000/svg\" height=\"24px\" viewBox=\"0 -960 960 960\">\n",
              "    <path d=\"M120-120v-720h720v720H120Zm60-500h600v-160H180v160Zm220 220h160v-160H400v160Zm0 220h160v-160H400v160ZM180-400h160v-160H180v160Zm440 0h160v-160H620v160ZM180-180h160v-160H180v160Zm440 0h160v-160H620v160Z\"/>\n",
              "  </svg>\n",
              "    </button>\n",
              "\n",
              "  <style>\n",
              "    .colab-df-container {\n",
              "      display:flex;\n",
              "      gap: 12px;\n",
              "    }\n",
              "\n",
              "    .colab-df-convert {\n",
              "      background-color: #E8F0FE;\n",
              "      border: none;\n",
              "      border-radius: 50%;\n",
              "      cursor: pointer;\n",
              "      display: none;\n",
              "      fill: #1967D2;\n",
              "      height: 32px;\n",
              "      padding: 0 0 0 0;\n",
              "      width: 32px;\n",
              "    }\n",
              "\n",
              "    .colab-df-convert:hover {\n",
              "      background-color: #E2EBFA;\n",
              "      box-shadow: 0px 1px 2px rgba(60, 64, 67, 0.3), 0px 1px 3px 1px rgba(60, 64, 67, 0.15);\n",
              "      fill: #174EA6;\n",
              "    }\n",
              "\n",
              "    .colab-df-buttons div {\n",
              "      margin-bottom: 4px;\n",
              "    }\n",
              "\n",
              "    [theme=dark] .colab-df-convert {\n",
              "      background-color: #3B4455;\n",
              "      fill: #D2E3FC;\n",
              "    }\n",
              "\n",
              "    [theme=dark] .colab-df-convert:hover {\n",
              "      background-color: #434B5C;\n",
              "      box-shadow: 0px 1px 3px 1px rgba(0, 0, 0, 0.15);\n",
              "      filter: drop-shadow(0px 1px 2px rgba(0, 0, 0, 0.3));\n",
              "      fill: #FFFFFF;\n",
              "    }\n",
              "  </style>\n",
              "\n",
              "    <script>\n",
              "      const buttonEl =\n",
              "        document.querySelector('#df-971eaeb8-9e83-44c6-bc60-a721221dc921 button.colab-df-convert');\n",
              "      buttonEl.style.display =\n",
              "        google.colab.kernel.accessAllowed ? 'block' : 'none';\n",
              "\n",
              "      async function convertToInteractive(key) {\n",
              "        const element = document.querySelector('#df-971eaeb8-9e83-44c6-bc60-a721221dc921');\n",
              "        const dataTable =\n",
              "          await google.colab.kernel.invokeFunction('convertToInteractive',\n",
              "                                                    [key], {});\n",
              "        if (!dataTable) return;\n",
              "\n",
              "        const docLinkHtml = 'Like what you see? Visit the ' +\n",
              "          '<a target=\"_blank\" href=https://colab.research.google.com/notebooks/data_table.ipynb>data table notebook</a>'\n",
              "          + ' to learn more about interactive tables.';\n",
              "        element.innerHTML = '';\n",
              "        dataTable['output_type'] = 'display_data';\n",
              "        await google.colab.output.renderOutput(dataTable, element);\n",
              "        const docLink = document.createElement('div');\n",
              "        docLink.innerHTML = docLinkHtml;\n",
              "        element.appendChild(docLink);\n",
              "      }\n",
              "    </script>\n",
              "  </div>\n",
              "\n",
              "\n",
              "<div id=\"df-d7e92602-e93a-4cdb-90d1-07654442f74c\">\n",
              "  <button class=\"colab-df-quickchart\" onclick=\"quickchart('df-d7e92602-e93a-4cdb-90d1-07654442f74c')\"\n",
              "            title=\"Suggest charts\"\n",
              "            style=\"display:none;\">\n",
              "\n",
              "<svg xmlns=\"http://www.w3.org/2000/svg\" height=\"24px\"viewBox=\"0 0 24 24\"\n",
              "     width=\"24px\">\n",
              "    <g>\n",
              "        <path d=\"M19 3H5c-1.1 0-2 .9-2 2v14c0 1.1.9 2 2 2h14c1.1 0 2-.9 2-2V5c0-1.1-.9-2-2-2zM9 17H7v-7h2v7zm4 0h-2V7h2v10zm4 0h-2v-4h2v4z\"/>\n",
              "    </g>\n",
              "</svg>\n",
              "  </button>\n",
              "\n",
              "<style>\n",
              "  .colab-df-quickchart {\n",
              "      --bg-color: #E8F0FE;\n",
              "      --fill-color: #1967D2;\n",
              "      --hover-bg-color: #E2EBFA;\n",
              "      --hover-fill-color: #174EA6;\n",
              "      --disabled-fill-color: #AAA;\n",
              "      --disabled-bg-color: #DDD;\n",
              "  }\n",
              "\n",
              "  [theme=dark] .colab-df-quickchart {\n",
              "      --bg-color: #3B4455;\n",
              "      --fill-color: #D2E3FC;\n",
              "      --hover-bg-color: #434B5C;\n",
              "      --hover-fill-color: #FFFFFF;\n",
              "      --disabled-bg-color: #3B4455;\n",
              "      --disabled-fill-color: #666;\n",
              "  }\n",
              "\n",
              "  .colab-df-quickchart {\n",
              "    background-color: var(--bg-color);\n",
              "    border: none;\n",
              "    border-radius: 50%;\n",
              "    cursor: pointer;\n",
              "    display: none;\n",
              "    fill: var(--fill-color);\n",
              "    height: 32px;\n",
              "    padding: 0;\n",
              "    width: 32px;\n",
              "  }\n",
              "\n",
              "  .colab-df-quickchart:hover {\n",
              "    background-color: var(--hover-bg-color);\n",
              "    box-shadow: 0 1px 2px rgba(60, 64, 67, 0.3), 0 1px 3px 1px rgba(60, 64, 67, 0.15);\n",
              "    fill: var(--button-hover-fill-color);\n",
              "  }\n",
              "\n",
              "  .colab-df-quickchart-complete:disabled,\n",
              "  .colab-df-quickchart-complete:disabled:hover {\n",
              "    background-color: var(--disabled-bg-color);\n",
              "    fill: var(--disabled-fill-color);\n",
              "    box-shadow: none;\n",
              "  }\n",
              "\n",
              "  .colab-df-spinner {\n",
              "    border: 2px solid var(--fill-color);\n",
              "    border-color: transparent;\n",
              "    border-bottom-color: var(--fill-color);\n",
              "    animation:\n",
              "      spin 1s steps(1) infinite;\n",
              "  }\n",
              "\n",
              "  @keyframes spin {\n",
              "    0% {\n",
              "      border-color: transparent;\n",
              "      border-bottom-color: var(--fill-color);\n",
              "      border-left-color: var(--fill-color);\n",
              "    }\n",
              "    20% {\n",
              "      border-color: transparent;\n",
              "      border-left-color: var(--fill-color);\n",
              "      border-top-color: var(--fill-color);\n",
              "    }\n",
              "    30% {\n",
              "      border-color: transparent;\n",
              "      border-left-color: var(--fill-color);\n",
              "      border-top-color: var(--fill-color);\n",
              "      border-right-color: var(--fill-color);\n",
              "    }\n",
              "    40% {\n",
              "      border-color: transparent;\n",
              "      border-right-color: var(--fill-color);\n",
              "      border-top-color: var(--fill-color);\n",
              "    }\n",
              "    60% {\n",
              "      border-color: transparent;\n",
              "      border-right-color: var(--fill-color);\n",
              "    }\n",
              "    80% {\n",
              "      border-color: transparent;\n",
              "      border-right-color: var(--fill-color);\n",
              "      border-bottom-color: var(--fill-color);\n",
              "    }\n",
              "    90% {\n",
              "      border-color: transparent;\n",
              "      border-bottom-color: var(--fill-color);\n",
              "    }\n",
              "  }\n",
              "</style>\n",
              "\n",
              "  <script>\n",
              "    async function quickchart(key) {\n",
              "      const quickchartButtonEl =\n",
              "        document.querySelector('#' + key + ' button');\n",
              "      quickchartButtonEl.disabled = true;  // To prevent multiple clicks.\n",
              "      quickchartButtonEl.classList.add('colab-df-spinner');\n",
              "      try {\n",
              "        const charts = await google.colab.kernel.invokeFunction(\n",
              "            'suggestCharts', [key], {});\n",
              "      } catch (error) {\n",
              "        console.error('Error during call to suggestCharts:', error);\n",
              "      }\n",
              "      quickchartButtonEl.classList.remove('colab-df-spinner');\n",
              "      quickchartButtonEl.classList.add('colab-df-quickchart-complete');\n",
              "    }\n",
              "    (() => {\n",
              "      let quickchartButtonEl =\n",
              "        document.querySelector('#df-d7e92602-e93a-4cdb-90d1-07654442f74c button');\n",
              "      quickchartButtonEl.style.display =\n",
              "        google.colab.kernel.accessAllowed ? 'block' : 'none';\n",
              "    })();\n",
              "  </script>\n",
              "</div>\n",
              "\n",
              "    </div>\n",
              "  </div>\n"
            ],
            "application/vnd.google.colaboratory.intrinsic+json": {
              "type": "dataframe",
              "variable_name": "CellphoneData",
              "summary": "{\n  \"name\": \"CellphoneData\",\n  \"rows\": 161,\n  \"fields\": [\n    {\n      \"column\": \"Product ID\",\n      \"properties\": {\n        \"dtype\": \"number\",\n        \"std\": 410,\n        \"min\": 10,\n        \"max\": 1339,\n        \"num_unique_values\": 83,\n        \"samples\": [\n          43,\n          203,\n          662\n        ],\n        \"semantic_type\": \"\",\n        \"description\": \"\"\n      }\n    },\n    {\n      \"column\": \"Price\",\n      \"properties\": {\n        \"dtype\": \"number\",\n        \"std\": 768,\n        \"min\": 614,\n        \"max\": 4361,\n        \"num_unique_values\": 81,\n        \"samples\": [\n          1347,\n          2357,\n          2124\n        ],\n        \"semantic_type\": \"\",\n        \"description\": \"\"\n      }\n    },\n    {\n      \"column\": \"Sale\",\n      \"properties\": {\n        \"dtype\": \"number\",\n        \"std\": 1546,\n        \"min\": 10,\n        \"max\": 9807,\n        \"num_unique_values\": 125,\n        \"samples\": [\n          32,\n          93,\n          73\n        ],\n        \"semantic_type\": \"\",\n        \"description\": \"\"\n      }\n    },\n    {\n      \"column\": \"Weight\",\n      \"properties\": {\n        \"dtype\": \"number\",\n        \"std\": 92.8886124087199,\n        \"min\": 66.0,\n        \"max\": 753.0,\n        \"num_unique_values\": 62,\n        \"samples\": [\n          194.8,\n          179.0,\n          135.0\n        ],\n        \"semantic_type\": \"\",\n        \"description\": \"\"\n      }\n    },\n    {\n      \"column\": \"Resolution\",\n      \"properties\": {\n        \"dtype\": \"number\",\n        \"std\": 1.5099530195069024,\n        \"min\": 1.4,\n        \"max\": 12.2,\n        \"num_unique_values\": 24,\n        \"samples\": [\n          5.7,\n          5.43,\n          5.2\n        ],\n        \"semantic_type\": \"\",\n        \"description\": \"\"\n      }\n    },\n    {\n      \"column\": \"PPI\",\n      \"properties\": {\n        \"dtype\": \"number\",\n        \"std\": 134,\n        \"min\": 121,\n        \"max\": 806,\n        \"num_unique_values\": 45,\n        \"samples\": [\n          128,\n          283,\n          121\n        ],\n        \"semantic_type\": \"\",\n        \"description\": \"\"\n      }\n    },\n    {\n      \"column\": \"CPU Core\",\n      \"properties\": {\n        \"dtype\": \"number\",\n        \"std\": 2,\n        \"min\": 0,\n        \"max\": 8,\n        \"num_unique_values\": 6,\n        \"samples\": [\n          8,\n          2,\n          0\n        ],\n        \"semantic_type\": \"\",\n        \"description\": \"\"\n      }\n    },\n    {\n      \"column\": \"CPU Freq\",\n      \"properties\": {\n        \"dtype\": \"number\",\n        \"std\": 0.5997827026934927,\n        \"min\": 0.0,\n        \"max\": 2.7,\n        \"num_unique_values\": 28,\n        \"samples\": [\n          2.15,\n          1.95,\n          1.875\n        ],\n        \"semantic_type\": \"\",\n        \"description\": \"\"\n      }\n    },\n    {\n      \"column\": \"Internal Mem\",\n      \"properties\": {\n        \"dtype\": \"number\",\n        \"std\": 28.80477275978509,\n        \"min\": 0.0,\n        \"max\": 128.0,\n        \"num_unique_values\": 10,\n        \"samples\": [\n          0.128,\n          4.0,\n          0.0\n        ],\n        \"semantic_type\": \"\",\n        \"description\": \"\"\n      }\n    },\n    {\n      \"column\": \"RAM\",\n      \"properties\": {\n        \"dtype\": \"number\",\n        \"std\": 1.6098314216746983,\n        \"min\": 0.0,\n        \"max\": 6.0,\n        \"num_unique_values\": 12,\n        \"samples\": [\n          0.0,\n          0.032,\n          3.0\n        ],\n        \"semantic_type\": \"\",\n        \"description\": \"\"\n      }\n    },\n    {\n      \"column\": \"Rear Cam\",\n      \"properties\": {\n        \"dtype\": \"number\",\n        \"std\": 6.18158500762723,\n        \"min\": 0.0,\n        \"max\": 23.0,\n        \"num_unique_values\": 18,\n        \"samples\": [\n          13.0,\n          3.15,\n          20.7\n        ],\n        \"semantic_type\": \"\",\n        \"description\": \"\"\n      }\n    },\n    {\n      \"column\": \"Front Cam\",\n      \"properties\": {\n        \"dtype\": \"number\",\n        \"std\": 4.342053407666822,\n        \"min\": 0.0,\n        \"max\": 20.0,\n        \"num_unique_values\": 15,\n        \"samples\": [\n          13.0,\n          1.0,\n          8.0\n        ],\n        \"semantic_type\": \"\",\n        \"description\": \"\"\n      }\n    },\n    {\n      \"column\": \"Battery\",\n      \"properties\": {\n        \"dtype\": \"number\",\n        \"std\": 1366,\n        \"min\": 800,\n        \"max\": 9500,\n        \"num_unique_values\": 55,\n        \"samples\": [\n          3240,\n          1560,\n          800\n        ],\n        \"semantic_type\": \"\",\n        \"description\": \"\"\n      }\n    },\n    {\n      \"column\": \"Thickness\",\n      \"properties\": {\n        \"dtype\": \"number\",\n        \"std\": 2.192564014235785,\n        \"min\": 5.1,\n        \"max\": 18.5,\n        \"num_unique_values\": 49,\n        \"samples\": [\n          7.9,\n          9.4,\n          14.1\n        ],\n        \"semantic_type\": \"\",\n        \"description\": \"\"\n      }\n    }\n  ]\n}"
            }
          },
          "metadata": {},
          "execution_count": 5
        }
      ]
    },
    {
      "cell_type": "markdown",
      "source": [
        "## Key observations from Step 1 about the Data Description\n",
        "\n",
        "\n",
        "*   This file contains 161 different cellphones.\n",
        "*   There are 14 attributes and they are outlined below.\n",
        "\n",
        "\n",
        "\n",
        "*   **Product ID** - Product ID of the cellphone\n",
        "*   **Price** - Price of the cellphone\n",
        "*   **Sale** - Number of sales\n",
        "*   **Weight** - Weight of the cellphone\n",
        "*   **Resolution** - Resolution of the cellphone\n",
        "*   **PPI** - Phone pixel density (pixels per inch)\n",
        "*   **CPU Core** - Number of CPU cores of the cellphone\n",
        "*   **CPU Freq** - CPU frequency of the cellphone\n",
        "*   **Internal Mem** - Internal memory of the cellphone\n",
        "*   **RAM** - RAM of the cellphone\n",
        "*   **Rear Cam** - Megapixels of cellphone rear camera\n",
        "*   **Front Cam** - Megapixels of cellphone front camera\n",
        "*   **Battery** - Milliampere hours of the cellphone\n",
        "*   **Thickness** - Thickness of the cellphone"
      ],
      "metadata": {
        "id": "KtJozljVN1a9"
      }
    },
    {
      "cell_type": "markdown",
      "source": [
        "# Step 2 : Problem Statement Definition\n",
        "* Developing a predictive model to forecast the closing price of Netflix stock.\n",
        "* **Target Variable:** Close price (Close)\n",
        "* **Predictors/Features:** Date, Open, High, Low, Volume, Adj Close\n",
        "\n",
        "This task has been chosen to help understand stock price trends and make informed investments in Netflix."
      ],
      "metadata": {
        "id": "z4rvC9BPPcX5"
      }
    },
    {
      "cell_type": "markdown",
      "source": [
        "## Step 3: Choosing the appropriate ML/AI Algorithm for Data Analysis.\n",
        "* Based on the problem statement we need to create a supervised machine learning regression model, as the target variable (Close price) is **Continuous**.\n",
        "\n",
        "* This will use historical stock price data to train a model that can estimate future values based on patterns observed in the data.\n"
      ],
      "metadata": {
        "id": "Go--gkwYRq_P"
      }
    },
    {
      "cell_type": "markdown",
      "source": [
        "# Step 4: Looking at the class distribution (Target variable distribution to check if the data is balanced or skewed)\n",
        "* Before proceeding with the predictive modeling, it is important to examine the distribution of the target variable, which is the Close price of Netflix stock, to determine if the data is balanced or skewed.\n",
        "* An ideally balanced distribution resembles a bell curve, although slight positive or negative skewness can also be acceptable.\n",
        "* The distribution's shape significantly impacts the performance of regression algorithms by influencing the model's ability to learn from the data comprehensively.\n",
        "* We need to ensure that the histogram of the Close price displays characteristics of a bell curve or a slight skew to avoid potential biases or issues in the predictive model."
      ],
      "metadata": {
        "id": "Z43NozSWSK-e"
      }
    },
    {
      "cell_type": "code",
      "source": [
        "%matplotlib inline\n",
        "# Creating histogram as the Target variable is Continuous\n",
        "# This will help us to understand the distribution of the close values\n",
        "CellphoneData['Price'].hist()"
      ],
      "metadata": {
        "colab": {
          "base_uri": "https://localhost:8080/",
          "height": 447
        },
        "id": "cP4WbBK1StVx",
        "outputId": "e9072c66-53e4-4e5e-cf2c-d093c28e64c8"
      },
      "execution_count": null,
      "outputs": [
        {
          "output_type": "execute_result",
          "data": {
            "text/plain": [
              "<Axes: >"
            ]
          },
          "metadata": {},
          "execution_count": 59
        },
        {
          "output_type": "display_data",
          "data": {
            "text/plain": [
              "<Figure size 640x480 with 1 Axes>"
            ],
            "image/png": "[encoded data removed]"
          },
          "metadata": {}
        }
      ]
    },
    {
      "cell_type": "markdown",
      "source": [
        "* **Vertical Axis:** Number of days\n",
        "* **Horizontal Axis:** Close price"
      ],
      "metadata": {
        "id": "jm-bGWpHAL3W"
      }
    }
  ]
}