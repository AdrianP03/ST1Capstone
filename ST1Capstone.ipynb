{
  "nbformat": 4,
  "nbformat_minor": 0,
  "metadata": {
    "colab": {
      "provenance": [],
      "authorship_tag": "ABX9TyMVpEb8M5rk+wEAUNAKXOnW",
      "include_colab_link": true
    },
    "kernelspec": {
      "name": "python3",
      "display_name": "Python 3"
    },
    "language_info": {
      "name": "python"
    }
  },
  "cells": [
    {
      "cell_type": "markdown",
      "metadata": {
        "id": "view-in-github",
        "colab_type": "text"
      },
      "source": [
        "<a href=\"https://colab.research.google.com/github/AdrianP03/ST1Capstone/blob/main/ST1Capstone.ipynb\" target=\"_parent\"><img src=\"https://colab.research.google.com/assets/colab-badge.svg\" alt=\"Open In Colab\"/></a>"
      ]
    },
    {
      "cell_type": "markdown",
      "source": [
        "# **ST1/ST1G Assignment 9 (Capstone Programming Project)**\n"
      ],
      "metadata": {
        "id": "T2Emsg2AJ7Ty"
      }
    },
    {
      "cell_type": "code",
      "source": [
        "from google.colab import drive\n",
        "drive.mount('/content/drive')"
      ],
      "metadata": {
        "colab": {
          "base_uri": "https://localhost:8080/"
        },
        "id": "tPC4-f1fJ4rZ",
        "outputId": "07240313-cd4b-4da6-b207-3feba1b2b349"
      },
      "execution_count": 38,
      "outputs": [
        {
          "output_type": "stream",
          "name": "stdout",
          "text": [
            "Drive already mounted at /content/drive; to attempt to forcibly remount, call drive.mount(\"/content/drive\", force_remount=True).\n"
          ]
        }
      ]
    },
    {
      "cell_type": "code",
      "source": [
        "%cd /content/drive/MyDrive/ST1Capstone/"
      ],
      "metadata": {
        "colab": {
          "base_uri": "https://localhost:8080/"
        },
        "id": "UPCkmca2K4ka",
        "outputId": "0cf3a2c9-edf8-4f4d-dc61-55d90938cdde"
      },
      "execution_count": 39,
      "outputs": [
        {
          "output_type": "stream",
          "name": "stdout",
          "text": [
            "/content/drive/MyDrive/ST1Capstone\n"
          ]
        }
      ]
    },
    {
      "cell_type": "code",
      "source": [
        "!ls"
      ],
      "metadata": {
        "colab": {
          "base_uri": "https://localhost:8080/"
        },
        "id": "gANvP1OBK9Ap",
        "outputId": "1ddb9494-f99d-400d-c095-02238591dd12"
      },
      "execution_count": 40,
      "outputs": [
        {
          "output_type": "stream",
          "name": "stdout",
          "text": [
            "Netflix_Data.csv\n"
          ]
        }
      ]
    },
    {
      "cell_type": "markdown",
      "source": [
        "### This capstone project is based on the Netflix Stock Price Prediction using Time Series. The data is available from the Kaggle repository: (https://www.kaggle.com/datasets/jainilcoder/netflix-stock-price-prediction/data).\n",
        "\n",
        "\n",
        "\n",
        "\n",
        "*   It contains the details of Netflix stock prices over 5 years.\n",
        "*   My project task is to create a machine learning model which can predict the closing stock price based on its characteristics.\n",
        "* For solving this problem, I will approach the task, with a step by step approach to create a data analysis and prediction model based on (machine learning/AI algorithms, regression algorith for example) available from different Python packages, modules and classes.\n"
      ],
      "metadata": {
        "id": "HakxSRYcLMkF"
      }
    },
    {
      "cell_type": "markdown",
      "source": [
        "### Step 1: Reading the data Reading the data with python"
      ],
      "metadata": {
        "id": "-EtbXm_BNAK1"
      }
    },
    {
      "cell_type": "code",
      "source": [
        "# Supressing the warning messages\n",
        "import warnings\n",
        "warnings.filterwarnings('ignore')"
      ],
      "metadata": {
        "id": "vE7PLxaUK_Ye"
      },
      "execution_count": 41,
      "outputs": []
    },
    {
      "cell_type": "code",
      "source": [
        "# Reading the dataset\n",
        "import pandas as pd\n",
        "import numpy as np\n",
        "Netflix_Data = pd.read_csv('/content/drive/MyDrive/ST1Capstone/Netflix_Data.csv', encoding='latin')\n",
        "print('Shape before deleting duplicate values:', Netflix_Data.shape)\n",
        "\n",
        "# Removing duplicate rows if any\n",
        "Netflix_Data=Netflix_Data.drop_duplicates()\n",
        "print('Shape After deleting duplicate values:', Netflix_Data.shape)\n",
        "\n",
        "# Printing sample data\n",
        "# Start observing the Quantitative/Categorical/Qualitative variables\n",
        "Netflix_Data.head(10)\n"
      ],
      "metadata": {
        "colab": {
          "base_uri": "https://localhost:8080/",
          "height": 398
        },
        "id": "r0dVLukuNjeN",
        "outputId": "4760fb91-9c5c-4b7f-c394-86f851f5350f"
      },
      "execution_count": 43,
      "outputs": [
        {
          "output_type": "stream",
          "name": "stdout",
          "text": [
            "Shape before deleting duplicate values: (1009, 7)\n",
            "Shape After deleting duplicate values: (1009, 7)\n"
          ]
        },
        {
          "output_type": "execute_result",
          "data": {
            "text/plain": [
              "         Date        Open        High         Low       Close   Adj Close  \\\n",
              "0  2018-02-05  262.000000  267.899994  250.029999  254.259995  254.259995   \n",
              "1  2018-02-06  247.699997  266.700012  245.000000  265.720001  265.720001   \n",
              "2  2018-02-07  266.579987  272.450012  264.329987  264.559998  264.559998   \n",
              "3  2018-02-08  267.079987  267.619995  250.000000  250.100006  250.100006   \n",
              "4  2018-02-09  253.850006  255.800003  236.110001  249.470001  249.470001   \n",
              "5  2018-02-12  252.139999  259.149994  249.000000  257.950012  257.950012   \n",
              "6  2018-02-13  257.290009  261.410004  254.699997  258.269989  258.269989   \n",
              "7  2018-02-14  260.470001  269.880005  260.329987  266.000000  266.000000   \n",
              "8  2018-02-15  270.029999  280.500000  267.630005  280.269989  280.269989   \n",
              "9  2018-02-16  278.730011  281.959991  275.690002  278.519989  278.519989   \n",
              "\n",
              "     Volume  \n",
              "0  11896100  \n",
              "1  12595800  \n",
              "2   8981500  \n",
              "3   9306700  \n",
              "4  16906900  \n",
              "5   8534900  \n",
              "6   6855200  \n",
              "7  10972000  \n",
              "8  10759700  \n",
              "9   8312400  "
            ],
            "text/html": [
              "\n",
              "  <div id=\"df-eedd9fdc-f1d4-4524-bd6c-eb11f0f291d1\" class=\"colab-df-container\">\n",
              "    <div>\n",
              "<style scoped>\n",
              "    .dataframe tbody tr th:only-of-type {\n",
              "        vertical-align: middle;\n",
              "    }\n",
              "\n",
              "    .dataframe tbody tr th {\n",
              "        vertical-align: top;\n",
              "    }\n",
              "\n",
              "    .dataframe thead th {\n",
              "        text-align: right;\n",
              "    }\n",
              "</style>\n",
              "<table border=\"1\" class=\"dataframe\">\n",
              "  <thead>\n",
              "    <tr style=\"text-align: right;\">\n",
              "      <th></th>\n",
              "      <th>Date</th>\n",
              "      <th>Open</th>\n",
              "      <th>High</th>\n",
              "      <th>Low</th>\n",
              "      <th>Close</th>\n",
              "      <th>Adj Close</th>\n",
              "      <th>Volume</th>\n",
              "    </tr>\n",
              "  </thead>\n",
              "  <tbody>\n",
              "    <tr>\n",
              "      <th>0</th>\n",
              "      <td>2018-02-05</td>\n",
              "      <td>262.000000</td>\n",
              "      <td>267.899994</td>\n",
              "      <td>250.029999</td>\n",
              "      <td>254.259995</td>\n",
              "      <td>254.259995</td>\n",
              "      <td>11896100</td>\n",
              "    </tr>\n",
              "    <tr>\n",
              "      <th>1</th>\n",
              "      <td>2018-02-06</td>\n",
              "      <td>247.699997</td>\n",
              "      <td>266.700012</td>\n",
              "      <td>245.000000</td>\n",
              "      <td>265.720001</td>\n",
              "      <td>265.720001</td>\n",
              "      <td>12595800</td>\n",
              "    </tr>\n",
              "    <tr>\n",
              "      <th>2</th>\n",
              "      <td>2018-02-07</td>\n",
              "      <td>266.579987</td>\n",
              "      <td>272.450012</td>\n",
              "      <td>264.329987</td>\n",
              "      <td>264.559998</td>\n",
              "      <td>264.559998</td>\n",
              "      <td>8981500</td>\n",
              "    </tr>\n",
              "    <tr>\n",
              "      <th>3</th>\n",
              "      <td>2018-02-08</td>\n",
              "      <td>267.079987</td>\n",
              "      <td>267.619995</td>\n",
              "      <td>250.000000</td>\n",
              "      <td>250.100006</td>\n",
              "      <td>250.100006</td>\n",
              "      <td>9306700</td>\n",
              "    </tr>\n",
              "    <tr>\n",
              "      <th>4</th>\n",
              "      <td>2018-02-09</td>\n",
              "      <td>253.850006</td>\n",
              "      <td>255.800003</td>\n",
              "      <td>236.110001</td>\n",
              "      <td>249.470001</td>\n",
              "      <td>249.470001</td>\n",
              "      <td>16906900</td>\n",
              "    </tr>\n",
              "    <tr>\n",
              "      <th>5</th>\n",
              "      <td>2018-02-12</td>\n",
              "      <td>252.139999</td>\n",
              "      <td>259.149994</td>\n",
              "      <td>249.000000</td>\n",
              "      <td>257.950012</td>\n",
              "      <td>257.950012</td>\n",
              "      <td>8534900</td>\n",
              "    </tr>\n",
              "    <tr>\n",
              "      <th>6</th>\n",
              "      <td>2018-02-13</td>\n",
              "      <td>257.290009</td>\n",
              "      <td>261.410004</td>\n",
              "      <td>254.699997</td>\n",
              "      <td>258.269989</td>\n",
              "      <td>258.269989</td>\n",
              "      <td>6855200</td>\n",
              "    </tr>\n",
              "    <tr>\n",
              "      <th>7</th>\n",
              "      <td>2018-02-14</td>\n",
              "      <td>260.470001</td>\n",
              "      <td>269.880005</td>\n",
              "      <td>260.329987</td>\n",
              "      <td>266.000000</td>\n",
              "      <td>266.000000</td>\n",
              "      <td>10972000</td>\n",
              "    </tr>\n",
              "    <tr>\n",
              "      <th>8</th>\n",
              "      <td>2018-02-15</td>\n",
              "      <td>270.029999</td>\n",
              "      <td>280.500000</td>\n",
              "      <td>267.630005</td>\n",
              "      <td>280.269989</td>\n",
              "      <td>280.269989</td>\n",
              "      <td>10759700</td>\n",
              "    </tr>\n",
              "    <tr>\n",
              "      <th>9</th>\n",
              "      <td>2018-02-16</td>\n",
              "      <td>278.730011</td>\n",
              "      <td>281.959991</td>\n",
              "      <td>275.690002</td>\n",
              "      <td>278.519989</td>\n",
              "      <td>278.519989</td>\n",
              "      <td>8312400</td>\n",
              "    </tr>\n",
              "  </tbody>\n",
              "</table>\n",
              "</div>\n",
              "    <div class=\"colab-df-buttons\">\n",
              "\n",
              "  <div class=\"colab-df-container\">\n",
              "    <button class=\"colab-df-convert\" onclick=\"convertToInteractive('df-eedd9fdc-f1d4-4524-bd6c-eb11f0f291d1')\"\n",
              "            title=\"Convert this dataframe to an interactive table.\"\n",
              "            style=\"display:none;\">\n",
              "\n",
              "  <svg xmlns=\"http://www.w3.org/2000/svg\" height=\"24px\" viewBox=\"0 -960 960 960\">\n",
              "    <path d=\"M120-120v-720h720v720H120Zm60-500h600v-160H180v160Zm220 220h160v-160H400v160Zm0 220h160v-160H400v160ZM180-400h160v-160H180v160Zm440 0h160v-160H620v160ZM180-180h160v-160H180v160Zm440 0h160v-160H620v160Z\"/>\n",
              "  </svg>\n",
              "    </button>\n",
              "\n",
              "  <style>\n",
              "    .colab-df-container {\n",
              "      display:flex;\n",
              "      gap: 12px;\n",
              "    }\n",
              "\n",
              "    .colab-df-convert {\n",
              "      background-color: #E8F0FE;\n",
              "      border: none;\n",
              "      border-radius: 50%;\n",
              "      cursor: pointer;\n",
              "      display: none;\n",
              "      fill: #1967D2;\n",
              "      height: 32px;\n",
              "      padding: 0 0 0 0;\n",
              "      width: 32px;\n",
              "    }\n",
              "\n",
              "    .colab-df-convert:hover {\n",
              "      background-color: #E2EBFA;\n",
              "      box-shadow: 0px 1px 2px rgba(60, 64, 67, 0.3), 0px 1px 3px 1px rgba(60, 64, 67, 0.15);\n",
              "      fill: #174EA6;\n",
              "    }\n",
              "\n",
              "    .colab-df-buttons div {\n",
              "      margin-bottom: 4px;\n",
              "    }\n",
              "\n",
              "    [theme=dark] .colab-df-convert {\n",
              "      background-color: #3B4455;\n",
              "      fill: #D2E3FC;\n",
              "    }\n",
              "\n",
              "    [theme=dark] .colab-df-convert:hover {\n",
              "      background-color: #434B5C;\n",
              "      box-shadow: 0px 1px 3px 1px rgba(0, 0, 0, 0.15);\n",
              "      filter: drop-shadow(0px 1px 2px rgba(0, 0, 0, 0.3));\n",
              "      fill: #FFFFFF;\n",
              "    }\n",
              "  </style>\n",
              "\n",
              "    <script>\n",
              "      const buttonEl =\n",
              "        document.querySelector('#df-eedd9fdc-f1d4-4524-bd6c-eb11f0f291d1 button.colab-df-convert');\n",
              "      buttonEl.style.display =\n",
              "        google.colab.kernel.accessAllowed ? 'block' : 'none';\n",
              "\n",
              "      async function convertToInteractive(key) {\n",
              "        const element = document.querySelector('#df-eedd9fdc-f1d4-4524-bd6c-eb11f0f291d1');\n",
              "        const dataTable =\n",
              "          await google.colab.kernel.invokeFunction('convertToInteractive',\n",
              "                                                    [key], {});\n",
              "        if (!dataTable) return;\n",
              "\n",
              "        const docLinkHtml = 'Like what you see? Visit the ' +\n",
              "          '<a target=\"_blank\" href=https://colab.research.google.com/notebooks/data_table.ipynb>data table notebook</a>'\n",
              "          + ' to learn more about interactive tables.';\n",
              "        element.innerHTML = '';\n",
              "        dataTable['output_type'] = 'display_data';\n",
              "        await google.colab.output.renderOutput(dataTable, element);\n",
              "        const docLink = document.createElement('div');\n",
              "        docLink.innerHTML = docLinkHtml;\n",
              "        element.appendChild(docLink);\n",
              "      }\n",
              "    </script>\n",
              "  </div>\n",
              "\n",
              "\n",
              "<div id=\"df-f000787e-7f2d-4a4c-b42c-3455c42b1012\">\n",
              "  <button class=\"colab-df-quickchart\" onclick=\"quickchart('df-f000787e-7f2d-4a4c-b42c-3455c42b1012')\"\n",
              "            title=\"Suggest charts\"\n",
              "            style=\"display:none;\">\n",
              "\n",
              "<svg xmlns=\"http://www.w3.org/2000/svg\" height=\"24px\"viewBox=\"0 0 24 24\"\n",
              "     width=\"24px\">\n",
              "    <g>\n",
              "        <path d=\"M19 3H5c-1.1 0-2 .9-2 2v14c0 1.1.9 2 2 2h14c1.1 0 2-.9 2-2V5c0-1.1-.9-2-2-2zM9 17H7v-7h2v7zm4 0h-2V7h2v10zm4 0h-2v-4h2v4z\"/>\n",
              "    </g>\n",
              "</svg>\n",
              "  </button>\n",
              "\n",
              "<style>\n",
              "  .colab-df-quickchart {\n",
              "      --bg-color: #E8F0FE;\n",
              "      --fill-color: #1967D2;\n",
              "      --hover-bg-color: #E2EBFA;\n",
              "      --hover-fill-color: #174EA6;\n",
              "      --disabled-fill-color: #AAA;\n",
              "      --disabled-bg-color: #DDD;\n",
              "  }\n",
              "\n",
              "  [theme=dark] .colab-df-quickchart {\n",
              "      --bg-color: #3B4455;\n",
              "      --fill-color: #D2E3FC;\n",
              "      --hover-bg-color: #434B5C;\n",
              "      --hover-fill-color: #FFFFFF;\n",
              "      --disabled-bg-color: #3B4455;\n",
              "      --disabled-fill-color: #666;\n",
              "  }\n",
              "\n",
              "  .colab-df-quickchart {\n",
              "    background-color: var(--bg-color);\n",
              "    border: none;\n",
              "    border-radius: 50%;\n",
              "    cursor: pointer;\n",
              "    display: none;\n",
              "    fill: var(--fill-color);\n",
              "    height: 32px;\n",
              "    padding: 0;\n",
              "    width: 32px;\n",
              "  }\n",
              "\n",
              "  .colab-df-quickchart:hover {\n",
              "    background-color: var(--hover-bg-color);\n",
              "    box-shadow: 0 1px 2px rgba(60, 64, 67, 0.3), 0 1px 3px 1px rgba(60, 64, 67, 0.15);\n",
              "    fill: var(--button-hover-fill-color);\n",
              "  }\n",
              "\n",
              "  .colab-df-quickchart-complete:disabled,\n",
              "  .colab-df-quickchart-complete:disabled:hover {\n",
              "    background-color: var(--disabled-bg-color);\n",
              "    fill: var(--disabled-fill-color);\n",
              "    box-shadow: none;\n",
              "  }\n",
              "\n",
              "  .colab-df-spinner {\n",
              "    border: 2px solid var(--fill-color);\n",
              "    border-color: transparent;\n",
              "    border-bottom-color: var(--fill-color);\n",
              "    animation:\n",
              "      spin 1s steps(1) infinite;\n",
              "  }\n",
              "\n",
              "  @keyframes spin {\n",
              "    0% {\n",
              "      border-color: transparent;\n",
              "      border-bottom-color: var(--fill-color);\n",
              "      border-left-color: var(--fill-color);\n",
              "    }\n",
              "    20% {\n",
              "      border-color: transparent;\n",
              "      border-left-color: var(--fill-color);\n",
              "      border-top-color: var(--fill-color);\n",
              "    }\n",
              "    30% {\n",
              "      border-color: transparent;\n",
              "      border-left-color: var(--fill-color);\n",
              "      border-top-color: var(--fill-color);\n",
              "      border-right-color: var(--fill-color);\n",
              "    }\n",
              "    40% {\n",
              "      border-color: transparent;\n",
              "      border-right-color: var(--fill-color);\n",
              "      border-top-color: var(--fill-color);\n",
              "    }\n",
              "    60% {\n",
              "      border-color: transparent;\n",
              "      border-right-color: var(--fill-color);\n",
              "    }\n",
              "    80% {\n",
              "      border-color: transparent;\n",
              "      border-right-color: var(--fill-color);\n",
              "      border-bottom-color: var(--fill-color);\n",
              "    }\n",
              "    90% {\n",
              "      border-color: transparent;\n",
              "      border-bottom-color: var(--fill-color);\n",
              "    }\n",
              "  }\n",
              "</style>\n",
              "\n",
              "  <script>\n",
              "    async function quickchart(key) {\n",
              "      const quickchartButtonEl =\n",
              "        document.querySelector('#' + key + ' button');\n",
              "      quickchartButtonEl.disabled = true;  // To prevent multiple clicks.\n",
              "      quickchartButtonEl.classList.add('colab-df-spinner');\n",
              "      try {\n",
              "        const charts = await google.colab.kernel.invokeFunction(\n",
              "            'suggestCharts', [key], {});\n",
              "      } catch (error) {\n",
              "        console.error('Error during call to suggestCharts:', error);\n",
              "      }\n",
              "      quickchartButtonEl.classList.remove('colab-df-spinner');\n",
              "      quickchartButtonEl.classList.add('colab-df-quickchart-complete');\n",
              "    }\n",
              "    (() => {\n",
              "      let quickchartButtonEl =\n",
              "        document.querySelector('#df-f000787e-7f2d-4a4c-b42c-3455c42b1012 button');\n",
              "      quickchartButtonEl.style.display =\n",
              "        google.colab.kernel.accessAllowed ? 'block' : 'none';\n",
              "    })();\n",
              "  </script>\n",
              "</div>\n",
              "\n",
              "    </div>\n",
              "  </div>\n"
            ],
            "application/vnd.google.colaboratory.intrinsic+json": {
              "type": "dataframe",
              "variable_name": "Netflix_Data",
              "summary": "{\n  \"name\": \"Netflix_Data\",\n  \"rows\": 1009,\n  \"fields\": [\n    {\n      \"column\": \"Date\",\n      \"properties\": {\n        \"dtype\": \"object\",\n        \"num_unique_values\": 1009,\n        \"samples\": [\n          \"2020-08-04\",\n          \"2020-08-07\",\n          \"2021-01-14\"\n        ],\n        \"semantic_type\": \"\",\n        \"description\": \"\"\n      }\n    },\n    {\n      \"column\": \"Open\",\n      \"properties\": {\n        \"dtype\": \"number\",\n        \"std\": 108.53753170401454,\n        \"min\": 233.919998,\n        \"max\": 692.349976,\n        \"num_unique_values\": 976,\n        \"samples\": [\n          254.630005,\n          427.559998,\n          339.570007\n        ],\n        \"semantic_type\": \"\",\n        \"description\": \"\"\n      }\n    },\n    {\n      \"column\": \"High\",\n      \"properties\": {\n        \"dtype\": \"number\",\n        \"std\": 109.26295957119457,\n        \"min\": 250.649994,\n        \"max\": 700.98999,\n        \"num_unique_values\": 983,\n        \"samples\": [\n          511.76001,\n          494.850006,\n          496.660004\n        ],\n        \"semantic_type\": \"\",\n        \"description\": \"\"\n      }\n    },\n    {\n      \"column\": \"Low\",\n      \"properties\": {\n        \"dtype\": \"number\",\n        \"std\": 107.55586739006051,\n        \"min\": 231.229996,\n        \"max\": 686.090027,\n        \"num_unique_values\": 989,\n        \"samples\": [\n          266.480011,\n          349.290009,\n          384.899994\n        ],\n        \"semantic_type\": \"\",\n        \"description\": \"\"\n      }\n    },\n    {\n      \"column\": \"Close\",\n      \"properties\": {\n        \"dtype\": \"number\",\n        \"std\": 108.28999877034998,\n        \"min\": 233.880005,\n        \"max\": 691.690002,\n        \"num_unique_values\": 988,\n        \"samples\": [\n          265.320007,\n          345.559998,\n          380.070007\n        ],\n        \"semantic_type\": \"\",\n        \"description\": \"\"\n      }\n    },\n    {\n      \"column\": \"Adj Close\",\n      \"properties\": {\n        \"dtype\": \"number\",\n        \"std\": 108.28999877034998,\n        \"min\": 233.880005,\n        \"max\": 691.690002,\n        \"num_unique_values\": 988,\n        \"samples\": [\n          265.320007,\n          345.559998,\n          380.070007\n        ],\n        \"semantic_type\": \"\",\n        \"description\": \"\"\n      }\n    },\n    {\n      \"column\": \"Volume\",\n      \"properties\": {\n        \"dtype\": \"number\",\n        \"std\": 5465535,\n        \"min\": 1144000,\n        \"max\": 58904300,\n        \"num_unique_values\": 1005,\n        \"samples\": [\n          2671700,\n          3725900,\n          4927900\n        ],\n        \"semantic_type\": \"\",\n        \"description\": \"\"\n      }\n    }\n  ]\n}"
            }
          },
          "metadata": {},
          "execution_count": 43
        }
      ]
    },
    {
      "cell_type": "markdown",
      "source": [
        "## Key observations from Step 1 about the Data Description\n",
        "\n",
        "\n",
        "*   This file contains 1009 days worth of stock data.\n",
        "*   There are 7 attributes and they are outlined below.\n",
        "\n",
        "\n",
        "\n",
        "*   **Date** - Date of the stock\n",
        "*   **Open** - Price at which the stock opened\n",
        "*   **High** - Highest point of stock price\n",
        "*   **Low** - Lowest point of stock price\n",
        "*   **Close** - Close price adjusted for splits\n",
        "*   **Adj Close** - Adjusted close price adjusted for splits and dividend and/or capital gain distributions.\n",
        "*   **Volume** - Volume of stocks\n",
        "\n",
        "\n"
      ],
      "metadata": {
        "id": "KtJozljVN1a9"
      }
    },
    {
      "cell_type": "markdown",
      "source": [
        "# Step 2 : Problem Statement Definition\n",
        "* Developing a predictive model to forecast the closing price of Netflix stock.\n",
        "* **Target Variable:** Close price (Close)\n",
        "* **Predictors/Features:** Date, Open, High, Low, Volume, Adj Close\n",
        "\n",
        "This task has been chosen to help understand stock price trends and make informed investments in Netflix."
      ],
      "metadata": {
        "id": "z4rvC9BPPcX5"
      }
    },
    {
      "cell_type": "markdown",
      "source": [
        "## Step 3: Choosing the appropriate ML/AI Algorithm for Data Analysis.\n",
        "* Based on the problem statement we need to create a supervised machine learning regression model, as the target variable (Close price) is **Continuous**.\n",
        "\n",
        "* This will use historical stock price data to train a model that can estimate future values based on patterns observed in the data.\n"
      ],
      "metadata": {
        "id": "Go--gkwYRq_P"
      }
    },
    {
      "cell_type": "markdown",
      "source": [
        "# Step 4: Looking at the class distribution (Target variable distribution to check if the data is balanced or skewed)\n",
        "* Before proceeding with the predictive modeling, it is important to examine the distribution of the target variable, which is the Close price of Netflix stock, to determine if the data is balanced or skewed.\n",
        "* An ideally balanced distribution resembles a bell curve, although slight positive or negative skewness can also be acceptable.\n",
        "* The distribution's shape significantly impacts the performance of regression algorithms by influencing the model's ability to learn from the data comprehensively.\n",
        "* We need to ensure that the histogram of the Close price displays characteristics of a bell curve or a slight skew to avoid potential biases or issues in the predictive model."
      ],
      "metadata": {
        "id": "Z43NozSWSK-e"
      }
    },
    {
      "cell_type": "code",
      "source": [
        "%matplotlib inline\n",
        "# Creating histogram as the Target variable is Continuous\n",
        "# This will help us to understand the distribution of the close values\n",
        "Netflix_Data['Close'].hist()"
      ],
      "metadata": {
        "colab": {
          "base_uri": "https://localhost:8080/",
          "height": 447
        },
        "id": "cP4WbBK1StVx",
        "outputId": "346e65c8-247c-4295-aeb4-fead9261efe0"
      },
      "execution_count": 52,
      "outputs": [
        {
          "output_type": "execute_result",
          "data": {
            "text/plain": [
              "<Axes: >"
            ]
          },
          "metadata": {},
          "execution_count": 52
        },
        {
          "output_type": "display_data",
          "data": {
            "text/plain": [
              "<Figure size 640x480 with 1 Axes>"
            ],
            "image/png": "[encoded data removed]"
          },
          "metadata": {}
        }
      ]
    },
    {
      "cell_type": "markdown",
      "source": [
        "* **Vertical Axis:** Number of days\n",
        "* **Horizontal Axis:** Close price"
      ],
      "metadata": {
        "id": "jm-bGWpHAL3W"
      }
    }
  ]
}