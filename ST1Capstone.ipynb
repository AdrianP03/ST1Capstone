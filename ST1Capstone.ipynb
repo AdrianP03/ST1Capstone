{
  "nbformat": 4,
  "nbformat_minor": 0,
  "metadata": {
    "colab": {
      "provenance": [],
      "authorship_tag": "ABX9TyNv46xLcihSVVzTF0/V0Mw/",
      "include_colab_link": true
    },
    "kernelspec": {
      "name": "python3",
      "display_name": "Python 3"
    },
    "language_info": {
      "name": "python"
    }
  },
  "cells": [
    {
      "cell_type": "markdown",
      "metadata": {
        "id": "view-in-github",
        "colab_type": "text"
      },
      "source": [
        "<a href=\"https://colab.research.google.com/github/AdrianP03/ST1Capstone/blob/main/ST1Capstone.ipynb\" target=\"_parent\"><img src=\"https://colab.research.google.com/assets/colab-badge.svg\" alt=\"Open In Colab\"/></a>"
      ]
    },
    {
      "cell_type": "markdown",
      "source": [
        "# **ST1/ST1G Assignment 9 (Capstone Programming Project)**\n"
      ],
      "metadata": {
        "id": "T2Emsg2AJ7Ty"
      }
    },
    {
      "cell_type": "code",
      "source": [
        "from google.colab import drive\n",
        "drive.mount('/content/drive')"
      ],
      "metadata": {
        "colab": {
          "base_uri": "https://localhost:8080/"
        },
        "id": "tPC4-f1fJ4rZ",
        "outputId": "99d33034-e860-4ecb-8e24-6757684b5033"
      },
      "execution_count": 1,
      "outputs": [
        {
          "output_type": "stream",
          "name": "stdout",
          "text": [
            "Drive already mounted at /content/drive; to attempt to forcibly remount, call drive.mount(\"/content/drive\", force_remount=True).\n"
          ]
        }
      ]
    },
    {
      "cell_type": "code",
      "source": [
        "%cd /content/drive/MyDrive/ST1Capstone/"
      ],
      "metadata": {
        "colab": {
          "base_uri": "https://localhost:8080/"
        },
        "id": "UPCkmca2K4ka",
        "outputId": "56d6eec0-6933-4469-97c7-8d5f39bb8568"
      },
      "execution_count": 2,
      "outputs": [
        {
          "output_type": "stream",
          "name": "stdout",
          "text": [
            "/content/drive/MyDrive/ST1Capstone\n"
          ]
        }
      ]
    },
    {
      "cell_type": "code",
      "source": [
        "!ls"
      ],
      "metadata": {
        "colab": {
          "base_uri": "https://localhost:8080/"
        },
        "id": "gANvP1OBK9Ap",
        "outputId": "1227e1d1-0810-4f1a-e855-9ab53457aa5b"
      },
      "execution_count": 4,
      "outputs": [
        {
          "output_type": "stream",
          "name": "stdout",
          "text": [
            "NFLX.csv\n"
          ]
        }
      ]
    },
    {
      "cell_type": "markdown",
      "source": [
        "### This capstone Project is based on the Netflix Stock Price Prediction using Time Series. The data is available from the Kaggle repository: (https://www.kaggle.com/datasets/jainilcoder/netflix-stock-price-prediction/data).\n",
        "\n",
        "\n",
        "\n",
        "\n",
        "*   It contains the details of 506 houses in the Boston city.\n",
        "*   My project task is to create a machine learning model which can predict the average price of house based on its characteristics.\n",
        "* For solving this problem, I will approach the task, with a step by step approach to create a data analysis and prediction model based on (machine learning/AI algorithms, regression algorith for example) available from different Python packages, modules and classes.\n"
      ],
      "metadata": {
        "id": "HakxSRYcLMkF"
      }
    }
  ]
}